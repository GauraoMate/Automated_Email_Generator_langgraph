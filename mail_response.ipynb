{
 "cells": [
  {
   "cell_type": "code",
   "execution_count": 1,
   "metadata": {},
   "outputs": [],
   "source": [
    "import os\n",
    "from dotenv import load_dotenv\n",
    "from langgraph.graph import StateGraph, START, END\n",
    "from IPython.display import Image, display\n",
    "from typing_extensions import TypedDict, Literal, Annotated, Dict, List\n",
    "from langchain_core.output_parsers import StrOutputParser\n",
    "from langchain_core.prompts import ChatPromptTemplate\n",
    "from langchain_groq import  ChatGroq\n",
    "\n",
    "load_dotenv()\n",
    "\n",
    "os.environ[\"GROQ_API_KEY\"] = os.getenv(\"GROQ_API_KEY\")\n",
    "llm=ChatGroq(model=\"qwen-2.5-32b\")\n",
    "output_parser = StrOutputParser()"
   ]
  },
  {
   "cell_type": "code",
   "execution_count": 2,
   "metadata": {},
   "outputs": [],
   "source": [
    "# Graph state\n",
    "class EmailState(TypedDict):\n",
    "    description: str\n",
    "    email_content: str\n",
    "    category: str\n",
    "    status: str\n",
    "    response: str"
   ]
  },
  {
   "cell_type": "code",
   "execution_count": 3,
   "metadata": {},
   "outputs": [],
   "source": [
    "def generate_email(state:EmailState) -> EmailState:\n",
    "    \"\"\"Generate the email based on the description\"\"\"\n",
    "    email_response = llm.invoke(\n",
    "        f\"\"\" Generate a realistic email based on the following description:\n",
    "        Description: {state[\"description\"]}\n",
    "        Generate the email content includes subject and body.\n",
    "        \"\"\"\n",
    "    )\n",
    "    return {\"email_content\":email_response.content}"
   ]
  },
  {
   "cell_type": "code",
   "execution_count": 4,
   "metadata": {},
   "outputs": [],
   "source": [
    "def classify_email(state: EmailState) -> EmailState:\n",
    "    \"\"\"Classify the email content to determine which team to handle\"\"\"\n",
    "    category_response = llm.invoke(\n",
    "        f\"\"\" Analyse the email and determine which team it should handle\n",
    "        Options are: \"manager\", \"technical_team\" or \"marketing_team\"\n",
    "        Email:{state[\"email_content\"]}\n",
    "        \"\"\"\n",
    "    )\n",
    "    return {\"category_response\":category_response}"
   ]
  },
  {
   "cell_type": "code",
   "execution_count": 5,
   "metadata": {},
   "outputs": [],
   "source": [
    "def manger_handler(state: EmailState) -> EmailState:\n",
    "    \"\"\"Handles the email directed from management team\"\"\"\n",
    "    manager_response = llm.invoke(\n",
    "        f\"\"\" you are a management assistant. Craft a professional response to the email:\n",
    "        Email: {state['email_content']}\n",
    "        Your response:\n",
    "        \"\"\"\n",
    "    )\n",
    "\n",
    "    return {\"response\":manager_response.content, \"status\":\"Completed by manager\"}"
   ]
  },
  {
   "cell_type": "code",
   "execution_count": 6,
   "metadata": {},
   "outputs": [],
   "source": [
    "def technical_handler(state: EmailState) -> EmailState:\n",
    "    \"\"\"Handles the email directed from technical support team\"\"\"\n",
    "    technical_response = llm.invoke(\n",
    "        f\"\"\" you are a technical support specialist. Craft a professional response to the email:\n",
    "        Email: {state['email_content']}\n",
    "        Your response:\n",
    "        \"\"\"\n",
    "    )\n",
    "\n",
    "    return {\"response\":technical_response.content, \"status\":\"Completed by technical\"}"
   ]
  },
  {
   "cell_type": "code",
   "execution_count": 7,
   "metadata": {},
   "outputs": [],
   "source": [
    "def marketing_handler(state: EmailState) -> EmailState:\n",
    "    \"\"\"Handles the email directed from marketing team\"\"\"\n",
    "    marketing_response = llm.invoke(\n",
    "        f\"\"\" you are a marketing specialist. Craft a engaging reply to the email:\n",
    "        Email: {state['email_content']}\n",
    "        Your response:\n",
    "        \"\"\"\n",
    "    )\n",
    "\n",
    "    return {\"response\":marketing_response.content, \"status\":\"Completed by manager\"}"
   ]
  },
  {
   "cell_type": "code",
   "execution_count": 12,
   "metadata": {},
   "outputs": [],
   "source": [
    "def route_email(state:EmailState) -> Literal[\"manager\",\"technical_team\",\"marketing_team\"]:\n",
    "    \"\"\"Route the email to the appropriate team based on its classification \"\"\"\n",
    "    category = state[\"category_response\"]\n",
    "    if \"manager\" in category:\n",
    "        return \"manager\"\n",
    "    elif \"technical_team\" in category:\n",
    "        return \"technical_team\"\n",
    "    else:\n",
    "        return \"marketing_team\""
   ]
  },
  {
   "cell_type": "code",
   "execution_count": 14,
   "metadata": {},
   "outputs": [],
   "source": [
    "workflow = StateGraph(EmailState)\n",
    "\n",
    "workflow.add_node(\"generator\",generate_email)\n",
    "workflow.add_node(\"classifier\",classify_email)\n",
    "workflow.add_node(\"manager\",manger_handler)\n",
    "workflow.add_node(\"technical_team\",technical_handler)\n",
    "workflow.add_node(\"marketing_team\",marketing_handler)\n",
    "\n",
    "workflow.add_edge(START,\"generator\")\n",
    "workflow.add_edge(\"generator\",\"classifier\")\n",
    "workflow.add_conditional_edges(\n",
    "    \"classifier\",\n",
    "    route_email,\n",
    "    {\"manager\": \"manager\",\n",
    "    \"technical_team\": \"technical_team\",\n",
    "    \"marketing_team\": \"marketing_team\"}\n",
    ")\n",
    "workflow.add_edge(\"manager\",END)\n",
    "workflow.add_edge(\"technical_team\",END)\n",
    "workflow.add_edge(\"marketing_team\",END)\n",
    "\n",
    "graph = workflow.compile()\n"
   ]
  },
  {
   "cell_type": "code",
   "execution_count": 15,
   "metadata": {},
   "outputs": [
    {
     "data": {
      "image/png": "[encoded data removed]",
      "text/plain": [
       "<IPython.core.display.Image object>"
      ]
     },
     "metadata": {},
     "output_type": "display_data"
    }
   ],
   "source": [
    "from IPython.display import display,Image\n",
    "\n",
    "display(Image(graph.get_graph().draw_mermaid_png()))"
   ]
  },
  {
   "cell_type": "code",
   "execution_count": 16,
   "metadata": {},
   "outputs": [
    {
     "data": {
      "text/plain": [
       "{'description': 'Manager needs approval for which the budget is $50000',\n",
       " 'email_content': \"**Subject:** Request for Approval of Budget Allocation - Project XYZ\\n\\n**Body:**\\n\\nDear [Recipient's Name],\\n\\nI hope this message finds you well. I am writing to request your approval for the allocation of a budget amounting to $50,000 for our upcoming project, XYZ. This budget is crucial for ensuring the project's success by covering key aspects such as personnel, equipment, and supplies.\\n\\nThe breakdown of the budget is as follows:\\n- Personnel: $25,000\\n- Equipment: $15,000\\n- Supplies: $10,000\\n\\nThis funding will enable us to meet our project objectives on time and within the scope agreed upon. Please find attached a detailed budget proposal that outlines the specific cost items and their justifications.\\n\\nCould you kindly review the attached document and provide your approval at your earliest convenience? Your support in this matter is greatly appreciated.\\n\\nThank you for considering this request. If you need any further information or have any questions, please do not hesitate to contact me.\\n\\nBest regards,\\n\\n[Your Name]  \\n[Your Position]  \\n[Your Contact Information]  \\n[Your Company Name]\",\n",
       " 'status': 'Completed by manager',\n",
       " 'response': \"**Subject:** Re: Request for Approval of Budget Allocation - Project XYZ\\n\\n**Body:**\\n\\nDear [Your Name],\\n\\nThank you for reaching out and for your initiative to ensure Project XYZ’s success through this well-structured budget request. I appreciate the thorough breakdown and the detailed proposal attached, which clearly outlines the necessary expenditures for personnel, equipment, and supplies.\\n\\nI am inclined to support the allocation of the $50,000 budget for Project XYZ, as I believe it is essential for meeting our project objectives on schedule and within scope. However, before I give my final approval, could we schedule a brief call to discuss any potential adjustments or additional considerations that might enhance the project's outcomes further? This would also be a good opportunity to discuss how we can maximize the budget to achieve the best possible results.\\n\\nPlease let me know a convenient time for you, and we can proceed from there. Again, your attention to detail and comprehensive approach are greatly appreciated.\\n\\nLooking forward to our discussion.\\n\\nBest regards,\\n\\n[Recipient's Name]  \\n[Recipient's Position]  \\n[Recipient's Contact Information]  \\n[Company Name]\"}"
      ]
     },
     "execution_count": 16,
     "metadata": {},
     "output_type": "execute_result"
    }
   ],
   "source": [
    "response = graph.invoke({\"description\":\"Manager needs approval for which the budget is $50000\"},{'recursion_limit':100})\n",
    "response"
   ]
  }
 ],
 "metadata": {
  "kernelspec": {
   "display_name": "Python 3",
   "language": "python",
   "name": "python3"
  },
  "language_info": {
   "codemirror_mode": {
    "name": "ipython",
    "version": 3
   },
   "file_extension": ".py",
   "mimetype": "text/x-python",
   "name": "python",
   "nbconvert_exporter": "python",
   "pygments_lexer": "ipython3",
   "version": "3.12.8"
  }
 },
 "nbformat": 4,
 "nbformat_minor": 2
}
